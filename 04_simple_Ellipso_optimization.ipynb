{
  "cells": [
    {
      "cell_type": "markdown",
      "metadata": {
        "id": "VyHreCN-CRSE"
      },
      "source": []
    },
    {
      "cell_type": "markdown",
      "metadata": {
        "id": "xCGtsFwnCRSF"
      },
      "source": [
        "# Tutorial: Ellipsometry problem setup\n",
        "\n",
        "This tutorial demonstrates retrieval material parameters from ellipsometry measurements via global optimization. Note that the aim is not to reproduce the exact results from the paper, but to demonstrate how to setup the problem."
      ]
    },
    {
      "cell_type": "code",
      "execution_count": 7,
      "metadata": {
        "colab": {
          "base_uri": "https://localhost:8080/"
        },
        "id": "WNcm93wqCRSG",
        "outputId": "cf1c52bd-e825-455e-efdc-a7b16fd91d05"
      },
      "outputs": [
        {
          "name": "stdout",
          "output_type": "stream",
          "text": [
            "Defaulting to user installation because normal site-packages is not writeable\n",
            "Requirement already satisfied: pymoosh in /home/pauline/.local/lib/python3.10/site-packages (3.1)\n",
            "Requirement already satisfied: numpy in /home/pauline/.local/lib/python3.10/site-packages (from pymoosh) (1.26.1)\n",
            "Requirement already satisfied: scipy in /usr/lib/python3/dist-packages (from pymoosh) (1.8.0)\n",
            "Requirement already satisfied: matplotlib in /usr/lib/python3/dist-packages (from pymoosh) (3.5.1)\n",
            "Defaulting to user installation because normal site-packages is not writeable\n",
            "Requirement already satisfied: nevergrad in /home/pauline/.local/lib/python3.10/site-packages (1.0.0)\n",
            "Requirement already satisfied: bayesian-optimization>=1.2.0 in /home/pauline/.local/lib/python3.10/site-packages (from nevergrad) (1.4.3)\n",
            "Requirement already satisfied: typing-extensions>=3.6.6 in /usr/lib/python3/dist-packages (from nevergrad) (3.10.0.2)\n",
            "Requirement already satisfied: cma>=2.6.0 in /home/pauline/.local/lib/python3.10/site-packages (from nevergrad) (3.3.0)\n",
            "Requirement already satisfied: numpy>=1.24.0 in /home/pauline/.local/lib/python3.10/site-packages (from nevergrad) (1.26.1)\n",
            "Requirement already satisfied: pandas in /home/pauline/.local/lib/python3.10/site-packages (from nevergrad) (2.1.0)\n",
            "Requirement already satisfied: scipy>=1.0.0 in /usr/lib/python3/dist-packages (from bayesian-optimization>=1.2.0->nevergrad) (1.8.0)\n",
            "Requirement already satisfied: colorama>=0.4.6 in /home/pauline/.local/lib/python3.10/site-packages (from bayesian-optimization>=1.2.0->nevergrad) (0.4.6)\n",
            "Requirement already satisfied: scikit-learn>=0.18.0 in /home/pauline/.local/lib/python3.10/site-packages (from bayesian-optimization>=1.2.0->nevergrad) (1.3.0)\n",
            "Requirement already satisfied: pytz>=2020.1 in /usr/lib/python3/dist-packages (from pandas->nevergrad) (2022.1)\n",
            "Requirement already satisfied: tzdata>=2022.1 in /home/pauline/.local/lib/python3.10/site-packages (from pandas->nevergrad) (2023.3)\n",
            "Requirement already satisfied: python-dateutil>=2.8.2 in /home/pauline/.local/lib/python3.10/site-packages (from pandas->nevergrad) (2.8.2)\n",
            "Requirement already satisfied: six>=1.5 in /usr/lib/python3/dist-packages (from python-dateutil>=2.8.2->pandas->nevergrad) (1.16.0)\n",
            "Requirement already satisfied: threadpoolctl>=2.0.0 in /home/pauline/.local/lib/python3.10/site-packages (from scikit-learn>=0.18.0->bayesian-optimization>=1.2.0->nevergrad) (3.2.0)\n",
            "Requirement already satisfied: joblib>=1.1.1 in /home/pauline/.local/lib/python3.10/site-packages (from scikit-learn>=0.18.0->bayesian-optimization>=1.2.0->nevergrad) (1.3.2)\n"
          ]
        }
      ],
      "source": [
        "# install dependecies\n",
        "!pip install pymoosh\n",
        "!pip install nevergrad"
      ]
    },
    {
      "cell_type": "markdown",
      "metadata": {
        "id": "wgxw0VJSCRSH"
      },
      "source": [
        "## Load modules"
      ]
    },
    {
      "cell_type": "code",
      "execution_count": 8,
      "metadata": {
        "id": "fUFSKAvQCRSH"
      },
      "outputs": [],
      "source": [
        "import nevergrad as ng\n",
        "import matplotlib.pyplot as plt\n",
        "import PyMoosh as pm\n",
        "import numpy as np"
      ]
    },
    {
      "cell_type": "markdown",
      "metadata": {
        "id": "C7kJKhiVCRSH"
      },
      "source": [
        "## Helper: define the optimization geometry\n",
        "\n",
        "Here we define the geometric model to be optimized and its parametrization. We will optimize the thicknesses of a layer-stack of two alterning dielectric materials.\n",
        "Technically, the geometry is described by an instance of PyMoosh's `structure` class. The optimizer will generate sequences of floats. Therefore, we will write a wrapper that converts a list of thicknesses (provided by the optimizer) into a pymoosh structure object (required for the simulation). Furthermore, we also pass the additional fixed parameters that are not optimized by still needed for the structure description as keyword arguments. Here these are the material refractive indices of the two used dielectrics and of the environment."
      ]
    },
    {
      "cell_type": "code",
      "execution_count": 9,
      "metadata": {
        "id": "2E67Ai7wCRSI"
      },
      "outputs": [],
      "source": [
        "def setup_structure(x, mat_env, mat_substrate):\n",
        "    \"\"\"helper to create pymoosh structure object with user-defined thicknesses and materials\n",
        "\n",
        "    Args:\n",
        "        X (list): long list of material permittivities and thicknesses (first half / second half)\n",
        "        mat_env (float, str): material of environment (above stack)\n",
        "        mat_substrate (float, str): material of substrate (below stack)\n",
        "\n",
        "    Returns:\n",
        "        PyMoosh.structure: multi-layer structure object\n",
        "    \"\"\"\n",
        "    x = list(x)  # convert to list for convenience when stacking layers\n",
        "    n_layers = len(x) // 2\n",
        "\n",
        "    # available materials\n",
        "    materials = [mat_env] + [_m for _m in x[:n_layers]] + [mat_substrate]\n",
        "    # material sequence of layer-stack\n",
        "    stack = [i for i in range(n_layers + 2)]\n",
        "    # thicknesses of layers\n",
        "    thicknesses = np.array([0] + [_t for _t in x[n_layers:]] + [0])\n",
        "\n",
        "    structure = pm.Structure(\n",
        "        materials, stack, np.array(thicknesses), verbose=False)\n",
        "\n",
        "    return structure"
      ]
    },
    {
      "cell_type": "markdown",
      "metadata": {
        "id": "6FdPBgeTCRSI"
      },
      "source": [
        "## Helper: define the optimization target\n",
        "\n",
        "Now we define the physical property to be optimized - the *cost* function.\n",
        "By default Nevergrad algorithms minimize the cost, so we will use $f_{cost} = 1-R$ in order to maximize the reflectivity of a layer stack."
      ]
    },
    {
      "cell_type": "code",
      "execution_count": 10,
      "metadata": {
        "id": "aajzB60kCRSI"
      },
      "outputs": [],
      "source": [
        "# ------- the optimization target function -------\n",
        "def cost_ellipsometry(x, ref_ellipso, mat_env, mat_substrate, wavelengths, angle):\n",
        "    \"\"\" cost function: MAE between simulated and measured (ref) spectrum\n",
        "\n",
        "    Args:\n",
        "        x (list): materials (first half) & thicknesses (second half) of all layers\n",
        "        ref_ellipso (np.ndarray): reference spectrum at `eval_wls`\n",
        "        wavelengths (np.ndarray): wavelengths to evaluate\n",
        "\n",
        "    Returns:\n",
        "        float: 1 - Reflectivity at target wavelength\n",
        "    \"\"\"\n",
        "    structure = setup_structure(x, mat_env, mat_substrate)\n",
        "\n",
        "    # the actual PyMoosh reflectivity simulation\n",
        "    ellips = np.zeros(len(wavelengths), dtype=np.complex128)\n",
        "    for i, wav in enumerate(wavelengths):\n",
        "        r_s, _, _, _ = pm.coefficient(structure, wav, angle, 0)\n",
        "        r_p, _, _, _ = pm.coefficient(structure, wav, angle, 1)\n",
        "        ellips[i] = r_p/r_s\n",
        "\n",
        "    # diff = ellips - ref_ellipso\n",
        "    cost = np.mean(np.abs(ellips.imag - ref_ellipso.imag)**2 +\n",
        "                   np.abs(ellips.real - ref_ellipso.real)**2)\n",
        "\n",
        "    return cost\n"
      ]
    },
    {
      "cell_type": "markdown",
      "metadata": {
        "id": "1N5RUEapCRSI"
      },
      "source": [
        "## Setting up the optimization problem\n",
        "\n",
        "Now we define the specific configuration of our optimization problem. For ellipsometry we generate a random layer structure (=the reference) and calculate the spectrum of the complex ratio r_p/r_s. This is equivalent to the measurement in an actual experiment."
      ]
    },
    {
      "cell_type": "code",
      "execution_count": 11,
      "metadata": {
        "colab": {
          "base_uri": "https://localhost:8080/",
          "height": 860
        },
        "id": "ciQ049nqCRSJ",
        "outputId": "ebd8316f-9eb6-40e5-870b-d4f96ce28c3e"
      },
      "outputs": [
        {
          "data": {
            "image/png": "[encoded data removed]",
            "text/plain": [
              "<Figure size 432x288 with 1 Axes>"
            ]
          },
          "metadata": {
            "needs_background": "light"
          },
          "output_type": "display_data"
        },
        {
          "data": {
            "image/png": "[encoded data removed]",
            "text/plain": [
              "<Figure size 432x288 with 1 Axes>"
            ]
          },
          "metadata": {
            "needs_background": "light"
          },
          "output_type": "display_data"
        }
      ],
      "source": [
        "# ------- define \"ellispometry\" optimization problem\n",
        "mat_env = 1.0\n",
        "mat_substrate = 'Gold'\n",
        "nb_layers = 1\n",
        "min_thick = 50     # nm\n",
        "max_thick = 150\n",
        "min_eps = 1.1      # permittivity\n",
        "max_eps = 3\n",
        "wavelengths = np.linspace(400, 800, 31)  # nm\n",
        "angle = 40*np.pi/180  # rad\n",
        "\n",
        "# create a reference structure that we then try to find\n",
        "x_ref = [np.random.random()*(max_eps-min_eps) + min_eps for _ in range(nb_layers)]\n",
        "x_ref += [np.random.random()*(max_thick-min_thick) + min_thick for _ in range(nb_layers)]\n",
        "struct_ref = setup_structure(x_ref, mat_env, mat_substrate)\n",
        "\n",
        "# calculate reference r_p/r_s spectrum (equiv. to ellispometry measurement)\n",
        "ref_ellipso = np.zeros(len(wavelengths), dtype=complex)\n",
        "for i, wav in enumerate(wavelengths):\n",
        "    r_s, _, _, _ = pm.coefficient(struct_ref, wav, angle, 0)\n",
        "    r_p, _, _, _ = pm.coefficient(struct_ref, wav, angle, 1)\n",
        "    ref_ellipso[i] = r_p / r_s\n",
        "\n",
        "\n",
        "# plot reference\n",
        "plt.figure()\n",
        "plt.subplot(title='reference structure (which we try to find via ellipsometry)')\n",
        "struct_ref.plot_stack()\n",
        "\n",
        "plt.figure()\n",
        "plt.plot(wavelengths, ref_ellipso.real, label='real')\n",
        "plt.plot(wavelengths, ref_ellipso.imag, label='imag')\n",
        "plt.legend()\n",
        "plt.xlabel('wavelength (nm)')\n",
        "plt.ylabel('$r_p / r_s$')\n",
        "plt.show()\n"
      ]
    },
    {
      "cell_type": "markdown",
      "metadata": {
        "id": "weFyDU0zCRSJ"
      },
      "source": [
        "## Setup the Nevergrad optimizer\n",
        "\n",
        "Now we set up the parametrization for nevergrad (this is called *instrumentation*).\n",
        "Finally, we configure the optimizer."
      ]
    },
    {
      "cell_type": "code",
      "execution_count": 12,
      "metadata": {
        "id": "fyvusOkkCRSJ"
      },
      "outputs": [],
      "source": [
        "# ------- setup the parametrization\n",
        "budget = 10000     # stop criterion: allowed number of evaluations\n",
        "N_population = 30 # population size\n",
        "\n",
        "# parametrization\n",
        "# bounds for free params: layer permittivities and thicknesses\n",
        "args_mat_thick_ng = ng.p.Array(\n",
        "    shape=(nb_layers*2,),\n",
        "    lower=[min_eps]*nb_layers + [min_thick]*nb_layers,\n",
        "    upper=[max_eps]*nb_layers + [max_thick]*nb_layers,\n",
        ")\n",
        "\n",
        "# wrap free and fixed arguments\n",
        "instrumentation = ng.p.Instrumentation(\n",
        "    # --- optimization args\n",
        "    x=args_mat_thick_ng,\n",
        "\n",
        "    # --- additional, fixed args\n",
        "    ref_ellipso=ref_ellipso,\n",
        "    mat_env=mat_env,\n",
        "    mat_substrate=mat_substrate,\n",
        "    wavelengths=wavelengths,\n",
        "    angle=angle,\n",
        ")\n",
        "\n",
        "\n",
        "# ------- setup the optimizer\n",
        "# configure specific variant from DE optimizer family\n",
        "optim_algos_DE = ng.families.DifferentialEvolution(\n",
        "    crossover=\"twopoints\", popsize=N_population)\n",
        "\n",
        "# initialize the optimizer\n",
        "optimizer = optim_algos_DE(instrumentation, budget=budget)"
      ]
    },
    {
      "cell_type": "markdown",
      "metadata": {
        "id": "F0ZWlZR2CRSK"
      },
      "source": [
        "## Run the optimization\n",
        "\n",
        "Running the optimization is straightforward. We simply pass the cost function (`cost_ellispometry`) to the `minimize` function of the optimizer. The problem is configured inside the optimzer object and cost function."
      ]
    },
    {
      "cell_type": "code",
      "execution_count": 13,
      "metadata": {
        "id": "FKLNdhdgCRSK"
      },
      "outputs": [],
      "source": [
        "x_opt = optimizer.minimize(cost_ellipsometry)"
      ]
    },
    {
      "cell_type": "markdown",
      "metadata": {
        "id": "K8rsUjUTCRSK"
      },
      "source": [
        "## Analyze the result\n",
        "\n",
        "Finally, we calculate the spectrum for the final best solution and plot the results:"
      ]
    },
    {
      "cell_type": "code",
      "execution_count": 14,
      "metadata": {
        "colab": {
          "base_uri": "https://localhost:8080/",
          "height": 1000
        },
        "id": "daVTJ80QCRSK",
        "outputId": "63e1ad01-db56-49a9-fbaf-56c4b8d63e22"
      },
      "outputs": [
        {
          "data": {
            "image/png": "[encoded data removed]",
            "text/plain": [
              "<Figure size 432x288 with 1 Axes>"
            ]
          },
          "metadata": {
            "needs_background": "light"
          },
          "output_type": "display_data"
        },
        {
          "data": {
            "image/png": "[encoded data removed]",
            "text/plain": [
              "<Figure size 432x288 with 1 Axes>"
            ]
          },
          "metadata": {
            "needs_background": "light"
          },
          "output_type": "display_data"
        },
        {
          "data": {
            "image/png": "[encoded data removed]",
            "text/plain": [
              "<Figure size 432x288 with 1 Axes>"
            ]
          },
          "metadata": {
            "needs_background": "light"
          },
          "output_type": "display_data"
        }
      ],
      "source": [
        "x = x_opt.value[1]['x']\n",
        "struct_opt = setup_structure(x, mat_env, mat_substrate)\n",
        "\n",
        "# calculate reference r_p/r_s spectrum (equiv. to ellispometry measurement)\n",
        "opt_ellipso = np.zeros(len(wavelengths), dtype=complex)\n",
        "for i, wav in enumerate(wavelengths):\n",
        "    r_s, _, _, _ = pm.coefficient(struct_opt, wav, angle, 0)\n",
        "    r_p, _, _, _ = pm.coefficient(struct_opt, wav, angle, 1)\n",
        "    opt_ellipso[i] = r_p / r_s\n",
        "\n",
        "ellips = opt_ellipso\n",
        "\n",
        "\n",
        "# plot reference\n",
        "plt.figure()\n",
        "plt.subplot(title='reference layer')\n",
        "struct_ref.plot_stack()\n",
        "plt.figure()\n",
        "plt.subplot(title='optimized result')\n",
        "struct_opt.plot_stack()\n",
        "\n",
        "plt.figure()\n",
        "plt.plot(wavelengths, ref_ellipso.real, label='ref, Re', color='C0', dashes=[2,2])\n",
        "plt.plot(wavelengths, ref_ellipso.imag, label='ref, Im', color='C1', dashes=[2,2])\n",
        "plt.plot(wavelengths, opt_ellipso.real, label='opt, Re', color='C0')\n",
        "plt.plot(wavelengths, opt_ellipso.imag, label='opt, Im', color='C1')\n",
        "plt.legend()\n",
        "plt.xlabel('wavelength (nm)')\n",
        "plt.ylabel('$r_p / r_s$')\n",
        "plt.show()\n"
      ]
    }
  ],
  "metadata": {
    "colab": {
      "provenance": []
    },
    "kernelspec": {
      "display_name": "Python 3.10.12 64-bit",
      "language": "python",
      "name": "python3"
    },
    "language_info": {
      "codemirror_mode": {
        "name": "ipython",
        "version": 3
      },
      "file_extension": ".py",
      "mimetype": "text/x-python",
      "name": "python",
      "nbconvert_exporter": "python",
      "pygments_lexer": "ipython3",
      "version": "3.10.12"
    },
    "orig_nbformat": 4,
    "vscode": {
      "interpreter": {
        "hash": "916dbcbb3f70747c44a77c7bcd40155683ae19c65e1c03b4aa3499c5328201f1"
      }
    }
  },
  "nbformat": 4,
  "nbformat_minor": 0
}
