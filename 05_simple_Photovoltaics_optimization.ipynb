{
  "cells": [
    {
      "cell_type": "markdown",
      "metadata": {
        "id": "w7OwZLqyCTQg"
      },
      "source": [
        "# Tutorial: Photovoltaics problem setup\n",
        "\n",
        "This tutorial demonstrates optimization of a photovoltaics antireflective coating. Note that the aim is not to reproduce the exact results from the paper, but to demonstrate how to setup the problem."
      ]
    },
    {
      "cell_type": "code",
      "execution_count": 6,
      "metadata": {
        "colab": {
          "base_uri": "https://localhost:8080/"
        },
        "id": "Fs-_JJXlCTQh",
        "outputId": "f012306b-7c15-4e0e-a3b9-98b77d3e313a"
      },
      "outputs": [
        {
          "name": "stdout",
          "output_type": "stream",
          "text": [
            "Defaulting to user installation because normal site-packages is not writeable\n",
            "Requirement already satisfied: pymoosh in /home/pauline/.local/lib/python3.10/site-packages (3.1)\n",
            "Requirement already satisfied: numpy in /home/pauline/.local/lib/python3.10/site-packages (from pymoosh) (1.26.1)\n",
            "Requirement already satisfied: scipy in /usr/lib/python3/dist-packages (from pymoosh) (1.8.0)\n",
            "Requirement already satisfied: matplotlib in /usr/lib/python3/dist-packages (from pymoosh) (3.5.1)\n",
            "Defaulting to user installation because normal site-packages is not writeable\n",
            "Requirement already satisfied: nevergrad in /home/pauline/.local/lib/python3.10/site-packages (1.0.0)\n",
            "Requirement already satisfied: bayesian-optimization>=1.2.0 in /home/pauline/.local/lib/python3.10/site-packages (from nevergrad) (1.4.3)\n",
            "Requirement already satisfied: typing-extensions>=3.6.6 in /usr/lib/python3/dist-packages (from nevergrad) (3.10.0.2)\n",
            "Requirement already satisfied: cma>=2.6.0 in /home/pauline/.local/lib/python3.10/site-packages (from nevergrad) (3.3.0)\n",
            "Requirement already satisfied: pandas in /home/pauline/.local/lib/python3.10/site-packages (from nevergrad) (2.1.0)\n",
            "Requirement already satisfied: numpy>=1.24.0 in /home/pauline/.local/lib/python3.10/site-packages (from nevergrad) (1.26.1)\n",
            "Requirement already satisfied: scipy>=1.0.0 in /usr/lib/python3/dist-packages (from bayesian-optimization>=1.2.0->nevergrad) (1.8.0)\n",
            "Requirement already satisfied: scikit-learn>=0.18.0 in /home/pauline/.local/lib/python3.10/site-packages (from bayesian-optimization>=1.2.0->nevergrad) (1.3.0)\n",
            "Requirement already satisfied: colorama>=0.4.6 in /home/pauline/.local/lib/python3.10/site-packages (from bayesian-optimization>=1.2.0->nevergrad) (0.4.6)\n",
            "Requirement already satisfied: python-dateutil>=2.8.2 in /home/pauline/.local/lib/python3.10/site-packages (from pandas->nevergrad) (2.8.2)\n",
            "Requirement already satisfied: pytz>=2020.1 in /usr/lib/python3/dist-packages (from pandas->nevergrad) (2022.1)\n",
            "Requirement already satisfied: tzdata>=2022.1 in /home/pauline/.local/lib/python3.10/site-packages (from pandas->nevergrad) (2023.3)\n",
            "Requirement already satisfied: six>=1.5 in /usr/lib/python3/dist-packages (from python-dateutil>=2.8.2->pandas->nevergrad) (1.16.0)\n",
            "Requirement already satisfied: joblib>=1.1.1 in /home/pauline/.local/lib/python3.10/site-packages (from scikit-learn>=0.18.0->bayesian-optimization>=1.2.0->nevergrad) (1.3.2)\n",
            "Requirement already satisfied: threadpoolctl>=2.0.0 in /home/pauline/.local/lib/python3.10/site-packages (from scikit-learn>=0.18.0->bayesian-optimization>=1.2.0->nevergrad) (3.2.0)\n"
          ]
        }
      ],
      "source": [
        "# install dependecies\n",
        "!pip install -U pymoosh\n",
        "!pip install -U nevergrad"
      ]
    },
    {
      "cell_type": "markdown",
      "metadata": {
        "id": "o_wsb0WUCTQi"
      },
      "source": [
        "## Load modules"
      ]
    },
    {
      "cell_type": "code",
      "execution_count": 7,
      "metadata": {
        "id": "_jHjuAA_CTQi"
      },
      "outputs": [],
      "source": [
        "import nevergrad as ng\n",
        "import matplotlib.pyplot as plt\n",
        "import PyMoosh as pm\n",
        "import numpy as np"
      ]
    },
    {
      "cell_type": "markdown",
      "metadata": {
        "id": "h-ZR9bM4CTQi"
      },
      "source": [
        "## Helper: define the optimization geometry\n",
        "\n",
        "Here we define the geometric model to be optimized and its parametrization. We will optimize the thicknesses of a layer-stack of two alterning dielectric materials with fixed permittivity (2 and 3). These layer-pairs are on a thick a-Silicon layer, that represents the active layer of a solar cell.\n",
        "\n",
        "The thickness of the aSi layer will be provided as keyword arguments, so we can later set it artificially smaller, for plotting of the layer stack."
      ]
    },
    {
      "cell_type": "code",
      "execution_count": 8,
      "metadata": {
        "id": "WMUbSNbnCTQj"
      },
      "outputs": [],
      "source": [
        "def setup_structure(x, thick_aSi=30000):\n",
        "    \"\"\"helper to create pymoosh structure object, alternating 2 materials\n",
        "\n",
        "    the substrate is amorphous silicon and the light is incident through air (n=1).\n",
        "    The structure is made of alternating layers of eps=2 and eps=3.\n",
        "\n",
        "    Args:\n",
        "        X (list): long list of thicknesses\n",
        "\n",
        "    Returns:\n",
        "        PyMoosh.structure: multi-layer structure object\n",
        "    \"\"\"\n",
        "    x = list(x)  # convert to list for convenience when stacking layers\n",
        "    n_layers = len(x)\n",
        "\n",
        "    # available materials (alternating eps=2 and eps=3)\n",
        "    materials = [1., 2., 3., \"SiA\"]\n",
        "    # material sequence of layer-stack\n",
        "    stack = [0] + [1,2] * (n_layers//2) + [3]\n",
        "    # thicknesses of layers\n",
        "    thicknesses = [0] + x + [thick_aSi]\n",
        "\n",
        "    structure = pm.Structure(\n",
        "        materials, stack, np.array(thicknesses), verbose=False)\n",
        "\n",
        "    return structure"
      ]
    },
    {
      "cell_type": "markdown",
      "metadata": {
        "id": "YU4Ms2G-CTQj"
      },
      "source": [
        "## Helper: define the optimization target\n",
        "\n",
        "Now we define the *cost* function. We want to maximize $\\eta_{solar}$, the solar cell efficiency.\n",
        "By default Nevergrad algorithms minimize the cost. In order to maximize the target physical propery we use $f_{cost} = 1-\\eta_{solar}$.\n",
        "\n",
        "Essentially, we will maximize the spectrally integrated absorption in the solar cell active layer (amorphous silicon), weighted by the solar spectrum."
      ]
    },
    {
      "cell_type": "code",
      "execution_count": 9,
      "metadata": {
        "id": "u7T0_PJ9CTQk"
      },
      "outputs": [],
      "source": [
        "# ------- the optimization target function -------\n",
        "def cost_photo(x, wl_min, wl_max, number_pts=50, pola=0, incidence=0):\n",
        "    \"\"\" cost function: (negative) efficiency of solar cell\n",
        "\n",
        "    Args:\n",
        "        x (list): materials (first half) & thicknesses (second half) of all layers\n",
        "        wl_min, wl_max (float): spectral limits of efficiency evaluation\n",
        "\n",
        "    Returns:\n",
        "        float: 1 - Reflectivity at target wavelength\n",
        "    \"\"\"\n",
        "    structure = setup_structure(x)\n",
        "\n",
        "    # the actual PyMoosh reflectivity simulation\n",
        "    active_lay = len(x)+1\n",
        "\n",
        "    eff, _, _, _, _, _ = pm.photo(\n",
        "        structure, incidence, pola, wl_min, wl_max, active_lay, number_pts)\n",
        "    cost = 1 - eff\n",
        "\n",
        "    return cost\n"
      ]
    },
    {
      "cell_type": "markdown",
      "metadata": {
        "id": "EyyJW1XWCTQk"
      },
      "source": [
        "## Setting up the optimization problem\n",
        "\n",
        "Now we define the specific configuration of our optimization problem. For photovoltaics we want to optimize a sequence of alternating layers of fixed material ($\\epsilon=2, \\epsilon=3$) as an antireflection coating.\n",
        "\n",
        "Finally we set up the parametrization for nevergrad and configure the optimizer."
      ]
    },
    {
      "cell_type": "code",
      "execution_count": 13,
      "metadata": {
        "id": "_S53jn0hCTQk"
      },
      "outputs": [],
      "source": [
        "# ------- define \"photovoltaic\" optimization problem\n",
        "nb_layers = 10\n",
        "min_thick = 30     # nm\n",
        "max_thick = 250\n",
        "wl_min = 375.0     # nm\n",
        "wl_max = 750.0\n",
        "\n",
        "\n",
        "# ------- setup the parametrization\n",
        "budget = 10000    # stop criterion: allowed number of evaluations\n",
        "N_population = 30 # population size\n",
        "\n",
        "# parametrization\n",
        "# bounds for free params: layer permittivities and thicknesses\n",
        "init = [min_thick + (max_thick-min_thick) * np.random.rand() for _ in range(nb_layers)]\n",
        "args_mat_thick_ng = ng.p.Array(\n",
        "    init=init,\n",
        "    lower=[min_thick]*nb_layers,\n",
        "    upper=[max_thick]*nb_layers,\n",
        ")\n",
        "\n",
        "# wrap free and fixed arguments\n",
        "instrumentation = ng.p.Instrumentation(\n",
        "    # --- optimization args\n",
        "    x=args_mat_thick_ng,\n",
        "\n",
        "    # --- additional, fixed args\n",
        "    wl_min=wl_min,\n",
        "    wl_max=wl_max,\n",
        ")\n",
        "\n",
        "\n",
        "# ------- setup the optimizer\n",
        "# configure specific variant from DE optimizer family\n",
        "optim_algos_DE = ng.families.DifferentialEvolution(\n",
        "    crossover=\"twopoints\", popsize=N_population)\n",
        "\n",
        "# initialize the optimizer\n",
        "optimizer = optim_algos_DE(instrumentation, budget=budget)\n",
        "optimizer.register_callback(\"tell\", ng.callbacks.ProgressBar())"
      ]
    },
    {
      "cell_type": "markdown",
      "metadata": {
        "id": "_W4uspMKCTQk"
      },
      "source": [
        "## Run the optimization\n",
        "\n",
        "Pass the cost function (`cost_photo`) to the `minimize` function of the optimizer."
      ]
    },
    {
      "cell_type": "code",
      "execution_count": 14,
      "metadata": {
        "id": "i1dihRVcCTQk"
      },
      "outputs": [
        {
          "name": "stderr",
          "output_type": "stream",
          "text": [
            "100%|██████████| 10000/10000 [05:28<00:00, 30.47it/s]"
          ]
        },
        {
          "name": "stderr",
          "output_type": "stream",
          "text": [
            "100%|██████████| 10000/10000 [05:40<00:00, 30.47it/s]"
          ]
        }
      ],
      "source": [
        "x_opt = optimizer.minimize(cost_photo)"
      ]
    },
    {
      "cell_type": "markdown",
      "metadata": {
        "id": "OoRf-v1KCTQk"
      },
      "source": [
        "## Analyze the result\n",
        "\n",
        "Finally, we calculate the spectrum for the best solution and plot the results:"
      ]
    },
    {
      "cell_type": "code",
      "execution_count": 12,
      "metadata": {
        "colab": {
          "base_uri": "https://localhost:8080/",
          "height": 862
        },
        "id": "mhLmGLz3CTQk",
        "outputId": "34153d1f-a80b-4b73-9cc5-eda73ad4d02e"
      },
      "outputs": [
        {
          "data": {
            "image/png": "[encoded data removed]",
            "text/plain": [
              "<Figure size 432x288 with 1 Axes>"
            ]
          },
          "metadata": {
            "needs_background": "light"
          },
          "output_type": "display_data"
        },
        {
          "data": {
            "image/png": "[encoded data removed]",
            "text/plain": [
              "<Figure size 432x288 with 1 Axes>"
            ]
          },
          "metadata": {
            "needs_background": "light"
          },
          "output_type": "display_data"
        }
      ],
      "source": [
        "x = x_opt.value[1]['x']\n",
        "struct_opt = setup_structure(x)\n",
        "\n",
        "# calculate abs. spectrum\n",
        "_, _, _, wl, _, spec_A = pm.photo(\n",
        "    struct_opt, incidence=0, polarization=0,\n",
        "    wl_min=wl_min, wl_max=wl_max,\n",
        "    active_layers=len(x)+1, number_points=100)\n",
        "\n",
        "\n",
        "# calculate abs. spectrum of bare aSi (all thicknesses zero)\n",
        "struct_zeros = setup_structure(np.zeros_like(x))\n",
        "_, _, _, wl, _, spec_A_zero = pm.photo(\n",
        "    struct_zeros, incidence=0, polarization=0,\n",
        "    wl_min=wl_min, wl_max=wl_max,\n",
        "    active_layers=len(x)+1, number_points=100)\n",
        "\n",
        "\n",
        "# plot\n",
        "plt.figure()\n",
        "plt.subplot(title='optimized structure')\n",
        "struct_opt_for_plot = setup_structure(x, thick_aSi=0)\n",
        "struct_opt_for_plot.plot_stack()\n",
        "\n",
        "plt.figure()\n",
        "plt.plot(wl, spec_A, color='C0', label='optimized AR')\n",
        "plt.plot(wl, spec_A_zero, color='C1', label='no AR coating')\n",
        "plt.legend()\n",
        "plt.xlabel('wavelength (nm)')\n",
        "plt.ylabel('absorption')\n",
        "plt.show()"
      ]
    }
  ],
  "metadata": {
    "colab": {
      "provenance": []
    },
    "kernelspec": {
      "display_name": "Python 3.10.12 64-bit",
      "language": "python",
      "name": "python3"
    },
    "language_info": {
      "codemirror_mode": {
        "name": "ipython",
        "version": 3
      },
      "file_extension": ".py",
      "mimetype": "text/x-python",
      "name": "python",
      "nbconvert_exporter": "python",
      "pygments_lexer": "ipython3",
      "version": "3.10.12"
    },
    "orig_nbformat": 4,
    "vscode": {
      "interpreter": {
        "hash": "916dbcbb3f70747c44a77c7bcd40155683ae19c65e1c03b4aa3499c5328201f1"
      }
    }
  },
  "nbformat": 4,
  "nbformat_minor": 0
}
